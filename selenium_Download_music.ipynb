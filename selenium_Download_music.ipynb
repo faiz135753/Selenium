{
 "cells": [
  {
   "cell_type": "code",
   "execution_count": null,
   "id": "3140cb73",
   "metadata": {},
   "outputs": [],
   "source": [
    "import os\n",
    "import time\n",
    "from concurrent.futures import ThreadPoolExecutor\n",
    "import requests\n",
    "from pytube import YouTube\n",
    "from selenium import webdriver\n",
    "from selenium.webdriver.common.by import By\n",
    "from selenium.webdriver.common.keys import Keys\n",
    "search = input()\n",
    "DOWNLOAD_PATH = 'music/'\n",
    "#音樂下載\n",
    "def download_music(picture_url: str):\n",
    "    yt = YouTube(picture_url)\n",
    "    print(\"開始下載影片\")\n",
    "    name=yt.title\n",
    "    name=name[name.find('【')+1:name.find('】')]+'.mp3'\n",
    "    print(name)\n",
    "    yt.streams.get_highest_resolution().download('./music',filename=name)\n",
    "    print(\"影片下載完成\")\n",
    "if not os.path.exists(DOWNLOAD_PATH):\n",
    "    os.makedirs(DOWNLOAD_PATH)\n",
    "browser = webdriver.Chrome()\n",
    "browser.get(search)\n",
    "browser.implicitly_wait(10)\n",
    "for _ in range(10):\n",
    "    browser.execute_script(\n",
    "        'document.documentElement.scrollTop = document.documentElement.scrollHeight'\n",
    "    )\n",
    "    time.sleep(1)\n",
    "imgs = browser.find_elements(By.CSS_SELECTOR, 'div.style-scope ytd-grid-renderer h3 a')\n",
    "with ThreadPoolExecutor(max_workers=32) as pool:\n",
    "    for img in imgs:\n",
    "        pic_url = img.get_attribute('href')\n",
    "        print(pic_url)\n",
    "        pool.submit(download_music, pic_url)"
   ]
  }
 ],
 "metadata": {
  "kernelspec": {
   "display_name": "Python 3.9.12 ('base')",
   "language": "python",
   "name": "python3"
  },
  "language_info": {
   "codemirror_mode": {
    "name": "ipython",
    "version": 3
   },
   "file_extension": ".py",
   "mimetype": "text/x-python",
   "name": "python",
   "nbconvert_exporter": "python",
   "pygments_lexer": "ipython3",
   "version": "3.9.12"
  },
  "vscode": {
   "interpreter": {
    "hash": "c576b1f6473b285ce3303192058bc04cecc7f08e229cc43318e8b627d6c92b01"
   }
  }
 },
 "nbformat": 4,
 "nbformat_minor": 5
}
